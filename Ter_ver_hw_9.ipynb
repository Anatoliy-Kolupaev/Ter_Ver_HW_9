{
 "cells": [
  {
   "cell_type": "markdown",
   "id": "8d2b8abf",
   "metadata": {},
   "source": [
    "Задача №1    \n",
    "    Даны значения величины заработной платы заемщиков банка (zp) и значения их поведенческого кредитного скоринга (ks): zp = [35, 45, 190, 200, 40, 70, 54, 150, 120, 110], ks = [401, 574, 874, 919, 459, 739, 653, 902, 746, 832]. Используя математические операции, посчитать коэффициенты линейной регрессии, приняв за X заработную плату (то есть, zp - признак), а за y - значения скорингового балла (то есть, ks - целевая переменная). Произвести расчет как с использованием intercept, так и без."
   ]
  },
  {
   "cell_type": "markdown",
   "id": "447a39c9",
   "metadata": {},
   "source": [
    "С использованием intercept"
   ]
  },
  {
   "cell_type": "code",
   "execution_count": 113,
   "id": "b413992f",
   "metadata": {},
   "outputs": [],
   "source": [
    "import numpy as np\n",
    "import pandas as pd\n",
    "import matplotlib.pyplot as plt\n",
    "\n",
    "zp = np.array([35, 45, 190, 200, 40, 70, 54, 150, 120, 110])\n",
    "ks = np. array([401, 574, 874, 919, 459, 739, 653, 902, 746, 832])"
   ]
  },
  {
   "cell_type": "code",
   "execution_count": 114,
   "id": "52a59777",
   "metadata": {},
   "outputs": [
    {
     "data": {
      "text/plain": [
       "2.620538882402765"
      ]
     },
     "execution_count": 114,
     "metadata": {},
     "output_type": "execute_result"
    }
   ],
   "source": [
    "b1 = (np.mean(zp*ks) - np.mean(zp)*np.mean(ks)) / (np.mean(zp**2)-np.mean(zp)**2)\n",
    "b1"
   ]
  },
  {
   "cell_type": "code",
   "execution_count": 115,
   "id": "d5d15e2b",
   "metadata": {},
   "outputs": [
    {
     "data": {
      "text/plain": [
       "444.1773573243596"
      ]
     },
     "execution_count": 115,
     "metadata": {},
     "output_type": "execute_result"
    }
   ],
   "source": [
    "b0 = np.mean(ks) - b1*np.mean(zp)\n",
    "b0"
   ]
  },
  {
   "cell_type": "code",
   "execution_count": 116,
   "id": "7c0b79ee",
   "metadata": {},
   "outputs": [
    {
     "data": {
      "text/plain": [
       "array([535.89621821, 562.10160703, 942.07974498, 968.2851338 ,\n",
       "       548.99891262, 627.61507909, 585.68645697, 837.25818968,\n",
       "       758.64202321, 732.43663439])"
      ]
     },
     "execution_count": 116,
     "metadata": {},
     "output_type": "execute_result"
    }
   ],
   "source": [
    "y = b0 + b1*zp\n",
    "y"
   ]
  },
  {
   "cell_type": "code",
   "execution_count": 117,
   "id": "ea131e43",
   "metadata": {},
   "outputs": [
    {
     "data": {
      "text/plain": [
       "[<matplotlib.lines.Line2D at 0x23ae023f550>]"
      ]
     },
     "execution_count": 117,
     "metadata": {},
     "output_type": "execute_result"
    },
    {
     "data": {
      "image/png": "[encoded data removed]",
      "text/plain": [
       "<Figure size 640x480 with 1 Axes>"
      ]
     },
     "metadata": {},
     "output_type": "display_data"
    }
   ],
   "source": [
    "plt.scatter(zp, ks)\n",
    "plt.plot(zp, b1*zp+b0)"
   ]
  },
  {
   "cell_type": "markdown",
   "id": "8ec13180",
   "metadata": {},
   "source": [
    "С использованием intercept Матричный метод"
   ]
  },
  {
   "cell_type": "code",
   "execution_count": 118,
   "id": "c5d2caec",
   "metadata": {},
   "outputs": [
    {
     "data": {
      "text/plain": [
       "array([[ 35],\n",
       "       [ 45],\n",
       "       [190],\n",
       "       [200],\n",
       "       [ 40],\n",
       "       [ 70],\n",
       "       [ 54],\n",
       "       [150],\n",
       "       [120],\n",
       "       [110]])"
      ]
     },
     "execution_count": 118,
     "metadata": {},
     "output_type": "execute_result"
    }
   ],
   "source": [
    "zp1 = zp.reshape((len(zp), 1))\n",
    "zp1"
   ]
  },
  {
   "cell_type": "code",
   "execution_count": 119,
   "id": "c7479154",
   "metadata": {},
   "outputs": [
    {
     "data": {
      "text/plain": [
       "array([[401],\n",
       "       [574],\n",
       "       [874],\n",
       "       [919],\n",
       "       [459],\n",
       "       [739],\n",
       "       [653],\n",
       "       [902],\n",
       "       [746],\n",
       "       [832]])"
      ]
     },
     "execution_count": 119,
     "metadata": {},
     "output_type": "execute_result"
    }
   ],
   "source": [
    "ks1 = ks.reshape((len(ks), 1 ))\n",
    "ks1"
   ]
  },
  {
   "cell_type": "code",
   "execution_count": 120,
   "id": "0458f3a1",
   "metadata": {},
   "outputs": [
    {
     "data": {
      "text/plain": [
       "array([[  1.,  35.],\n",
       "       [  1.,  45.],\n",
       "       [  1., 190.],\n",
       "       [  1., 200.],\n",
       "       [  1.,  40.],\n",
       "       [  1.,  70.],\n",
       "       [  1.,  54.],\n",
       "       [  1., 150.],\n",
       "       [  1., 120.],\n",
       "       [  1., 110.]])"
      ]
     },
     "execution_count": 120,
     "metadata": {},
     "output_type": "execute_result"
    }
   ],
   "source": [
    "s = np.hstack([np.ones((len(zp), 1)), zp1])\n",
    "s"
   ]
  },
  {
   "cell_type": "code",
   "execution_count": 121,
   "id": "6270878f",
   "metadata": {},
   "outputs": [
    {
     "data": {
      "text/plain": [
       "array([[444.17735732],\n",
       "       [  2.62053888]])"
      ]
     },
     "execution_count": 121,
     "metadata": {},
     "output_type": "execute_result"
    }
   ],
   "source": [
    "m = np.dot(np.linalg.inv(np.dot(s.T, s)), s.T @ ks1)\n",
    "m"
   ]
  },
  {
   "cell_type": "markdown",
   "id": "98d7a370",
   "metadata": {},
   "source": [
    "Без использования intercept Матричный метод"
   ]
  },
  {
   "cell_type": "code",
   "execution_count": 122,
   "id": "dbfe04ec",
   "metadata": {},
   "outputs": [
    {
     "data": {
      "text/plain": [
       "array([[5.88982042]])"
      ]
     },
     "execution_count": 122,
     "metadata": {},
     "output_type": "execute_result"
    }
   ],
   "source": [
    "f = np.dot(np.linalg.inv(np.dot(zp1.T, zp1)), zp1.T @ ks1)\n",
    "f"
   ]
  },
  {
   "cell_type": "code",
   "execution_count": 123,
   "id": "f0ed4742",
   "metadata": {},
   "outputs": [
    {
     "data": {
      "text/plain": [
       "[<matplotlib.lines.Line2D at 0x23ae029ed00>]"
      ]
     },
     "execution_count": 123,
     "metadata": {},
     "output_type": "execute_result"
    },
    {
     "data": {
      "image/png": "[encoded data removed]",
      "text/plain": [
       "<Figure size 640x480 with 1 Axes>"
      ]
     },
     "metadata": {},
     "output_type": "display_data"
    }
   ],
   "source": [
    "plt.scatter(zp1, ks1)\n",
    "plt.plot(zp1, zp1*f)"
   ]
  },
  {
   "cell_type": "markdown",
   "id": "6ee84e4a",
   "metadata": {},
   "source": [
    "Задача №2  \n",
    "Посчитать коэффициент линейной регрессии при заработной плате (zp), используя градиентный спуск (без intercept)."
   ]
  },
  {
   "cell_type": "code",
   "execution_count": 156,
   "id": "e0294a92",
   "metadata": {},
   "outputs": [],
   "source": [
    "def mse_(w1, ks = ks, zp = zp, n = 10):\n",
    "    return np.sum((w1*ks) - zp)**2 /n\n"
   ]
  },
  {
   "cell_type": "code",
   "execution_count": 157,
   "id": "c470e7b4",
   "metadata": {},
   "outputs": [],
   "source": [
    "alpha = 1e-6\n",
    "n = 10"
   ]
  },
  {
   "cell_type": "code",
   "execution_count": 158,
   "id": "2e7e1d77",
   "metadata": {},
   "outputs": [
    {
     "name": "stdout",
     "output_type": "stream",
     "text": [
      "w1 = 0.25952808, i = 0, mse = 68622.97\n",
      "w1 = 5.54537842245223, i = 100, mse = 147092510.40\n",
      "w1 = 5.868748638669329, i = 200, mse = 165227995.05\n",
      "w1 = 5.888531320728348, i = 300, mse = 166371672.99\n",
      "w1 = 5.8897415574471985, i = 400, mse = 166441767.32\n",
      "w1 = 5.889815595583751, i = 500, mse = 166446055.93\n",
      "w1 = 5.889820124983314, i = 600, mse = 166446318.30\n",
      "w1 = 5.889820402076462, i = 700, mse = 166446334.35\n",
      "w1 = 5.88982041902807, i = 800, mse = 166446335.33\n",
      "w1 = 5.889820420065112, i = 900, mse = 166446335.39\n"
     ]
    }
   ],
   "source": [
    "w1 = 0.1\n",
    "for i in range(1000):\n",
    "    w1 -= alpha * (2/n) * np.sum((w1 * zp - ks) *  zp)\n",
    "    if i % 100 == 0:\n",
    "        print(f'w1 = {w1}, i = {i}, mse = {mse_(w1):.2f}')\n",
    "\n"
   ]
  },
  {
   "cell_type": "markdown",
   "id": "684b2160",
   "metadata": {},
   "source": [
    "Задача №3  \n",
    "Произвести вычисления как в пункте 2, но с вычислением intercept. Учесть, что изменение коэффициентов должно производиться на каждом шаге одновременно (то есть изменение одного коэффициента не должно влиять на изменение другого во время одной итерации)."
   ]
  },
  {
   "cell_type": "code",
   "execution_count": 163,
   "id": "38f7b265",
   "metadata": {},
   "outputs": [],
   "source": [
    "def mse1_(w0, w1, ks = ks, zp = zp, n = 10):\n",
    "    return np.sum((w0 + w1*ks) - zp)**2 /n"
   ]
  },
  {
   "cell_type": "code",
   "execution_count": 164,
   "id": "226e6f88",
   "metadata": {},
   "outputs": [],
   "source": [
    "alpha = 1e-5\n",
    "n = 10\n",
    "w1 = 0.1\n",
    "w0 = 0.1"
   ]
  },
  {
   "cell_type": "code",
   "execution_count": 168,
   "id": "52a9c07d",
   "metadata": {},
   "outputs": [
    {
     "name": "stdout",
     "output_type": "stream",
     "text": [
      "w0 = 0.13138221286165883, w1 = 4.294889333823904, i = 0, mse = 147.22\n",
      "w0 = 0.36523129322775266, w1 = 5.889820420132673, i = 100, mse = 268197.99\n",
      "w0 = 0.5905757120248436, w1 = 5.889820420132688, i = 200, mse = 1048072.76\n",
      "w0 = 0.8159201308219346, w1 = 5.889820420132688, i = 300, mse = 2339768.36\n",
      "w0 = 1.0412645496190256, w1 = 5.889820420132688, i = 400, mse = 4143284.79\n",
      "w0 = 1.2666089684161166, w1 = 5.889820420132688, i = 500, mse = 6458622.06\n",
      "w0 = 1.4919533872132076, w1 = 5.889820420132688, i = 600, mse = 9285780.17\n",
      "w0 = 1.7172978060102986, w1 = 5.889820420132688, i = 700, mse = 12624759.10\n",
      "w0 = 1.9426422248073896, w1 = 5.889820420132688, i = 800, mse = 16475558.88\n",
      "w0 = 2.1679866436044803, w1 = 5.889820420132688, i = 900, mse = 20838179.48\n"
     ]
    }
   ],
   "source": [
    "for i in range(1000):\n",
    "    w1 -= alpha * (2/n) * np.sum((w1 * zp - ks) *  zp)\n",
    "    w0 -= alpha * (2/n) * np.sum((w1 * zp - ks))\n",
    "    if i % 100 == 0:\n",
    "        print(f'w0 = {w0}, w1 = {w1}, i = {i}, mse = {mse1_(w1, w0):.2f}')"
   ]
  }
 ],
 "metadata": {
  "kernelspec": {
   "display_name": "Python 3 (ipykernel)",
   "language": "python",
   "name": "python3"
  },
  "language_info": {
   "codemirror_mode": {
    "name": "ipython",
    "version": 3
   },
   "file_extension": ".py",
   "mimetype": "text/x-python",
   "name": "python",
   "nbconvert_exporter": "python",
   "pygments_lexer": "ipython3",
   "version": "3.9.13"
  }
 },
 "nbformat": 4,
 "nbformat_minor": 5
}
